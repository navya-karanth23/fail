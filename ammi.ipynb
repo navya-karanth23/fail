b=np.array(13,6,8,9,7,8)
print(b)

